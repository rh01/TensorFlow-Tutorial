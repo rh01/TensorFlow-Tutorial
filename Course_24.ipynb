{
 "cells": [
  {
   "cell_type": "code",
   "execution_count": 2,
   "metadata": {},
   "outputs": [
    {
     "name": "stdout",
     "output_type": "stream",
     "text": [
      "Populating the interactive namespace from numpy and matplotlib\n"
     ]
    }
   ],
   "source": [
    "import tensorflow as tf\n",
    "import numpy as np\n",
    "import matplotlib.pyplot as plt\n",
    "%pylab inline"
   ]
  },
  {
   "cell_type": "code",
   "execution_count": 9,
   "metadata": {},
   "outputs": [
    {
     "data": {
      "text/plain": [
       "<matplotlib.collections.PathCollection at 0x7f82d6b60320>"
      ]
     },
     "execution_count": 9,
     "metadata": {},
     "output_type": "execute_result"
    },
    {
     "data": {
      "image/png": "[encoded data removed]",
      "text/plain": [
       "<matplotlib.figure.Figure at 0x7f82d6c0f358>"
      ]
     },
     "metadata": {},
     "output_type": "display_data"
    }
   ],
   "source": [
    "# 使用numpy生成100个随机点\n",
    "x_data = np.random.rand(100)\n",
    "y_data = 0.1 * x_data + 0.3\n",
    "\n",
    "\n",
    "# figure = plt.figure()\n",
    "ax = plt.subplot(1,1,1)\n",
    "ax.set_xlabel('x')\n",
    "ax.set_ylabel('Y')\n",
    "ax.scatter(x_data, y_data)\n",
    "# figure.show()"
   ]
  },
  {
   "cell_type": "code",
   "execution_count": 12,
   "metadata": {},
   "outputs": [
    {
     "name": "stdout",
     "output_type": "stream",
     "text": [
      "0 [0.075020343, 0.14043488]\n",
      "20 [0.1284799, 0.28445473]\n",
      "40 [0.1169484, 0.29074907]\n",
      "60 [0.110086, 0.29449478]\n",
      "80 [0.10600219, 0.29672381]\n",
      "100 [0.10357191, 0.29805034]\n",
      "120 [0.10212564, 0.29883978]\n",
      "140 [0.10126495, 0.29930955]\n",
      "160 [0.10075279, 0.2995891]\n",
      "180 [0.100448, 0.29975548]\n",
      "200 [0.1002666, 0.29985449]\n"
     ]
    }
   ],
   "source": [
    "# 构造一个线性模型\n",
    "b = tf.Variable(0.)\n",
    "k = tf.Variable(0.)\n",
    "y = k*x_data + b\n",
    "# define loss \n",
    "loss = tf.reduce_mean(tf.square(y_data-y))\n",
    "# define gradient decents optimizer\n",
    "optimizer = tf.train.GradientDescentOptimizer(0.2)\n",
    "# minimize loss function\n",
    "train = optimizer.minimize(loss=loss)\n",
    "# 初始化变量\n",
    "init = tf.global_variables_initializer()\n",
    "\n",
    "with tf.Session() as sess:\n",
    "    sess.run(init)\n",
    "    for step in range(201):\n",
    "        sess.run(train)\n",
    "        if step %20 == 0:\n",
    "            print(step, sess.run([k,b]))\n",
    "\n",
    "\n"
   ]
  },
  {
   "cell_type": "code",
   "execution_count": null,
   "metadata": {
    "collapsed": true
   },
   "outputs": [],
   "source": []
  }
 ],
 "metadata": {
  "kernelspec": {
   "display_name": "Python 3",
   "language": "python",
   "name": "python3"
  },
  "language_info": {
   "codemirror_mode": {
    "name": "ipython",
    "version": 3
   },
   "file_extension": ".py",
   "mimetype": "text/x-python",
   "name": "python",
   "nbconvert_exporter": "python",
   "pygments_lexer": "ipython3",
   "version": "3.5.2"
  }
 },
 "nbformat": 4,
 "nbformat_minor": 2
}
