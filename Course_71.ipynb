{
 "cells": [
  {
   "cell_type": "code",
   "execution_count": 2,
   "metadata": {},
   "outputs": [],
   "source": [
    "import tensorflow as tf\n",
    "from tensorflow.examples.tutorials.mnist import input_data"
   ]
  },
  {
   "cell_type": "code",
   "execution_count": null,
   "metadata": {},
   "outputs": [
    {
     "name": "stdout",
     "output_type": "stream",
     "text": [
      "Extracting MNIST\\train-images-idx3-ubyte.gz\n",
      "Extracting MNIST\\train-labels-idx1-ubyte.gz\n",
      "Extracting MNIST\\t10k-images-idx3-ubyte.gz\n",
      "Extracting MNIST\\t10k-labels-idx1-ubyte.gz\n",
      "Iter: 0, Testing Accuracy: 0.7369\n"
     ]
    }
   ],
   "source": [
    "# load data set\n",
    "mnist = input_data.read_data_sets('MNIST', one_hot=True)\n",
    "\n",
    "# define global variable fot configurations\n",
    "n_inputs = 28 # 输入一行，一行有28个数据\n",
    "max_time = 28 # 一共28行\n",
    "lstm_size = 100 # 隐含层单元\n",
    "n_classes = 10 # 10个分类\n",
    "batch_size= 50 # 每个批次共有50个样本\n",
    "n_batch = mnist.train.num_examples // batch_size # 共有的批次数\n",
    "\n",
    "# 这里的None表示任意的长度\n",
    "x = tf.placeholder(tf.float32, [None, 784])\n",
    "y = tf.placeholder(tf.float32, [None, 10])\n",
    "\n",
    "# 初始化权值和偏移值\n",
    "weights = tf.Variable(tf.truncated_normal([lstm_size, n_classes], stddev=0.1))\n",
    "biases = tf.Variable(tf.constant(0.1, shape=[n_classes]))\n",
    "\n",
    "# 定义RNN网络\n",
    "def RNN(X, Weights, biases):\n",
    "    # inputs=[batch_size, maz_time, n_inputs]\n",
    "    inputs = tf.reshape(X, [-1, max_time, n_inputs])\n",
    "    # 定义LSTM基本CELL \n",
    "    lstm_cell = tf.contrib.rnn.BasicLSTMCell(lstm_size)\n",
    "    # final_state[0]是cell_state\n",
    "    # final_state[1]是hidden_state\n",
    "    outputs, final_state = tf.nn.dynamic_rnn(lstm_cell, inputs, dtype=tf.float32)\n",
    "    results = tf.nn.softmax(tf.matmul(final_state[1], Weights) + biases)\n",
    "    return results\n",
    "\n",
    "# 计算RNN的返回结果\n",
    "prediction = RNN(x, weights, biases)\n",
    "# loss\n",
    "cross_entropy = tf.reduce_mean(tf.nn.softmax_cross_entropy_with_logits(labels=y, logits=prediction))\n",
    "# adam optimizer\n",
    "train_step = tf.train.AdamOptimizer(1e-4).minimize(cross_entropy)\n",
    "# 结果存放在一个布尔变量中\n",
    "correct_prediction = tf.equal(tf.argmax(y, 1), tf.argmax(prediction, 1))\n",
    "# 计算准确率\n",
    "accuracy = tf.reduce_mean(tf.cast(correct_prediction, tf.float32))\n",
    "# 初始化\n",
    "init =  tf.global_variables_initializer()\n",
    "\n",
    "with tf.Session() as sess:\n",
    "    sess.run(init)\n",
    "    for epoch in range(6):\n",
    "        for batch in range(n_batch):\n",
    "            batch_xs, batch_ys = mnist.train.next_batch(batch_size)\n",
    "            sess.run(train_step, feed_dict={\n",
    "                x: batch_xs,\n",
    "                y: batch_ys,               \n",
    "            })\n",
    "        acc = sess.run(accuracy, feed_dict={\n",
    "            x: mnist.test.images,\n",
    "            y: mnist.test.labels,\n",
    "        })\n",
    "        print(\"Iter: \" + str(epoch) + \", Testing Accuracy: \" + str(acc))\n",
    "    \n",
    "\n",
    "    "
   ]
  },
  {
   "cell_type": "code",
   "execution_count": null,
   "metadata": {
    "collapsed": true
   },
   "outputs": [],
   "source": []
  }
 ],
 "metadata": {
  "kernelspec": {
   "display_name": "tensorflow-gpu",
   "language": "python",
   "name": "tensorflow-gpu"
  },
  "language_info": {
   "codemirror_mode": {
    "name": "ipython",
    "version": 3
   },
   "file_extension": ".py",
   "mimetype": "text/x-python",
   "name": "python",
   "nbconvert_exporter": "python",
   "pygments_lexer": "ipython3",
   "version": "3.5.2"
  }
 },
 "nbformat": 4,
 "nbformat_minor": 2
}
