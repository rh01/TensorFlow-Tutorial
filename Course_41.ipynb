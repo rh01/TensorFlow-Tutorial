{
 "cells": [
  {
   "cell_type": "code",
   "execution_count": 1,
   "metadata": {
    "collapsed": true
   },
   "outputs": [],
   "source": [
    "import tensorflow as tf\n",
    "from tensorflow.examples.tutorials.mnist import input_data"
   ]
  },
  {
   "cell_type": "code",
   "execution_count": 2,
   "metadata": {},
   "outputs": [
    {
     "name": "stdout",
     "output_type": "stream",
     "text": [
      "Extracting MNIST_data/train-images-idx3-ubyte.gz\n",
      "Extracting MNIST_data/train-labels-idx1-ubyte.gz\n",
      "Extracting MNIST_data/t10k-images-idx3-ubyte.gz\n",
      "Extracting MNIST_data/t10k-labels-idx1-ubyte.gz\n",
      "Iter 0, Test accuracy: 0.8401\n",
      "Iter 1, Test accuracy: 0.8977\n",
      "Iter 2, Test accuracy: 0.9023\n",
      "Iter 3, Test accuracy: 0.906\n",
      "Iter 4, Test accuracy: 0.9087\n",
      "Iter 5, Test accuracy: 0.9104\n",
      "Iter 6, Test accuracy: 0.9126\n",
      "Iter 7, Test accuracy: 0.9139\n",
      "Iter 8, Test accuracy: 0.9158\n",
      "Iter 9, Test accuracy: 0.9175\n",
      "Iter 10, Test accuracy: 0.9178\n",
      "Iter 11, Test accuracy: 0.9188\n",
      "Iter 12, Test accuracy: 0.9189\n",
      "Iter 13, Test accuracy: 0.9201\n",
      "Iter 14, Test accuracy: 0.9203\n",
      "Iter 15, Test accuracy: 0.9207\n",
      "Iter 16, Test accuracy: 0.9207\n",
      "Iter 17, Test accuracy: 0.9207\n",
      "Iter 18, Test accuracy: 0.9213\n",
      "Iter 19, Test accuracy: 0.9222\n",
      "Iter 20, Test accuracy: 0.9216\n"
     ]
    }
   ],
   "source": [
    "# load data\n",
    "mnist = input_data.read_data_sets('MNIST_data', one_hot=True)\n",
    "\n",
    "# batch size\n",
    "batch_size = 100\n",
    "# compute total batches\n",
    "n_batch = mnist.train.num_examples//batch_size\n",
    "\n",
    "\n",
    "#  define placeholder\n",
    "x = tf.placeholder(tf.float32, [None,784])\n",
    "y = tf.placeholder(tf.float32, [None, 10])\n",
    "\n",
    "# 创建一个简单的神经网络\n",
    "W = tf.Variable(tf.zeros([784, 10]))\n",
    "b = tf.Variable(tf.zeros([10]))\n",
    "prediction = tf.nn.softmax(tf.matmul( x,W)+b)\n",
    "\n",
    "# loss\n",
    "loss = tf.reduce_mean(tf.nn.softmax_cross_entropy_with_logits(labels=y, logits=prediction))\n",
    "# optimizer\n",
    "train = tf.train.GradientDescentOptimizer(0.2).minimize(loss)\n",
    "\n",
    "# init\n",
    "init = tf.global_variables_initializer()\n",
    "# correct \n",
    "\n",
    "correct_prediction = tf.equal(tf.argmax(y, 1), tf.argmax(prediction, 1))\n",
    "# 求准确率\n",
    "accuracy = tf.reduce_mean(tf.cast(correct_prediction, tf.float32))\n",
    "with tf.Session() as sess:\n",
    "    sess.run(init)\n",
    "    for epoch in range(21):\n",
    "        for batch in range(n_batch):\n",
    "            batch_xs, batch_ys = mnist.train.next_batch(batch_size=batch)\n",
    "            sess.run(train, feed_dict={\n",
    "                x:batch_xs,\n",
    "                y:batch_ys\n",
    "            })\n",
    "        acc = sess.run(accuracy, feed_dict={x:mnist.test.images, y:mnist.test.labels})\n",
    "        print('Iter ' + str(epoch) + \", Test accuracy: \" + str(acc))"
   ]
  },
  {
   "cell_type": "code",
   "execution_count": null,
   "metadata": {
    "collapsed": true
   },
   "outputs": [],
   "source": []
  }
 ],
 "metadata": {
  "kernelspec": {
   "display_name": "Python 3",
   "language": "python",
   "name": "python3"
  },
  "language_info": {
   "codemirror_mode": {
    "name": "ipython",
    "version": 3
   },
   "file_extension": ".py",
   "mimetype": "text/x-python",
   "name": "python",
   "nbconvert_exporter": "python",
   "pygments_lexer": "ipython3",
   "version": "3.5.2"
  }
 },
 "nbformat": 4,
 "nbformat_minor": 2
}
